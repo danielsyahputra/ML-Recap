{
 "cells": [
  {
   "cell_type": "markdown",
   "id": "5dc001a7",
   "metadata": {},
   "source": [
    "# Vectorization\n",
    "\n",
    "Goal: Be familiar of how vectorization can make your learning faster"
   ]
  },
  {
   "cell_type": "code",
   "execution_count": 1,
   "id": "5f778b51",
   "metadata": {},
   "outputs": [],
   "source": [
    "import numpy as np"
   ]
  },
  {
   "cell_type": "markdown",
   "id": "9f0f4696",
   "metadata": {},
   "source": [
    "## Multivariate Linear Regression\n",
    "\n",
    "Univariate Linear Regression : $ f_{w, b}(x^{i}) = w.x^{(i)} + b $\n",
    "\n",
    "Multivariate Linear Regression : $ f_{\\vec{w}, b}(x^{i}) = \\vec{w}.\\vec{x}^{(i)} + b $\n",
    "\n",
    "$ \\vec{w} = (w_{1}, w_{2}, w_{3}, ..., w_{n}) $ \n",
    "\n",
    "$ \\vec{x} = (x_{1}, x_{2}, x_{3}, ..., x_{n}) $\n",
    "\n",
    "Problem: How do we make the learning faster when dealing with multivariate task. \n",
    "\n",
    "Yappss, **Vectorization!**\n",
    "\n",
    "Actually, we can solve the multivariate task with naive loop way, but the processing is still a sequential process. The idea of vectorization is to utilize paralellization, so the multiplication can be processed in one time. \n",
    "\n",
    "### Dot Product\n",
    "In multivariate linear regression, we need to compute $ \\vec{w}.\\vec{x} $. Mathematicians sometimes this process as *dot product* of two vectors. \n",
    "\n",
    "In mathematics, given two vectors $\\vec{w}, \\vec{x}$, which $ \\vec{w} = (w_{1}, w_{2}, w_{3}, ..., w_{n}) $ and $ \\vec{x} = (x_{1}, x_{2}, x_{3}, ..., x_{n}) $. Dot product of $ \\vec{w} $ and $ \\vec{x} $ can be defined as:\n",
    "\n",
    "<br>\n",
    "<center>\n",
    "    $ \\vec{w}.\\vec{x} = \\sum_{i=1} ^{n} w_{i} . x_{i} $\n",
    "</center>"
   ]
  },
  {
   "cell_type": "markdown",
   "id": "eeb0206f",
   "metadata": {},
   "source": [
    "#### Loop Version"
   ]
  },
  {
   "cell_type": "code",
   "execution_count": 2,
   "id": "495d1314",
   "metadata": {},
   "outputs": [
    {
     "name": "stdout",
     "output_type": "stream",
     "text": [
      "w shape: (1000000,)\n",
      "x shape: (1000000,)\n",
      "b: 0.4125991685472208\n"
     ]
    }
   ],
   "source": [
    "w = np.random.rand(1000000)\n",
    "x = np.random.rand(1000000)\n",
    "b = np.random.rand(1)[0]\n",
    "print(f\"w shape: {w.shape}\")\n",
    "print(f\"x shape: {w.shape}\")\n",
    "print(f\"b: {b}\")"
   ]
  },
  {
   "cell_type": "code",
   "execution_count": 3,
   "id": "ab017551",
   "metadata": {},
   "outputs": [],
   "source": [
    "def dot_product_loop_version(w, x):\n",
    "    w_dot_x = 0\n",
    "    m = x.shape[0]\n",
    "    for i in range(m):\n",
    "        w_dot_x += w[i] * x[i]\n",
    "    return w_dot_x"
   ]
  },
  {
   "cell_type": "code",
   "execution_count": 5,
   "id": "2caf0e51",
   "metadata": {},
   "outputs": [
    {
     "name": "stdout",
     "output_type": "stream",
     "text": [
      "CPU times: user 291 ms, sys: 2.59 ms, total: 293 ms\n",
      "Wall time: 292 ms\n"
     ]
    }
   ],
   "source": [
    "%%time\n",
    "temp = dot_product_loop_version(w, x)"
   ]
  },
  {
   "cell_type": "markdown",
   "id": "78a33787",
   "metadata": {},
   "source": [
    "#### Vectorize Version\n",
    "\n",
    "We can use Numpy library from Python to demo the vectorize approach"
   ]
  },
  {
   "cell_type": "code",
   "execution_count": 6,
   "id": "2ddd4f32",
   "metadata": {},
   "outputs": [],
   "source": [
    "def dot_product_vectorize_version(w, x):\n",
    "    return np.dot(w, x)"
   ]
  },
  {
   "cell_type": "code",
   "execution_count": 7,
   "id": "bb5c44e8",
   "metadata": {},
   "outputs": [
    {
     "name": "stdout",
     "output_type": "stream",
     "text": [
      "CPU times: user 3.41 ms, sys: 1.92 ms, total: 5.33 ms\n",
      "Wall time: 1.45 ms\n"
     ]
    }
   ],
   "source": [
    "%%time\n",
    "temp = dot_product_vectorize_version(w, x)"
   ]
  },
  {
   "cell_type": "markdown",
   "id": "7ea3ce13",
   "metadata": {},
   "source": [
    "From the result before, you can see how vectorization can make you computation become faster."
   ]
  }
 ],
 "metadata": {
  "kernelspec": {
   "display_name": "Python 3 (ipykernel)",
   "language": "python",
   "name": "python3"
  },
  "language_info": {
   "codemirror_mode": {
    "name": "ipython",
    "version": 3
   },
   "file_extension": ".py",
   "mimetype": "text/x-python",
   "name": "python",
   "nbconvert_exporter": "python",
   "pygments_lexer": "ipython3",
   "version": "3.8.13"
  }
 },
 "nbformat": 4,
 "nbformat_minor": 5
}
